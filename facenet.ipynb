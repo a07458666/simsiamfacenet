{
 "cells": [
  {
   "cell_type": "markdown",
   "id": "permanent-courtesy",
   "metadata": {},
   "source": [
    "# GPU Check"
   ]
  },
  {
   "cell_type": "code",
   "execution_count": 2,
   "id": "fossil-knight",
   "metadata": {},
   "outputs": [],
   "source": [
    "from facenet_pytorch import MTCNN, InceptionResnetV1, fixed_image_standardization\n",
    "import torch\n",
    "from torch.utils.data import Dataset\n",
    "from torch.utils.data import DataLoader, SubsetRandomSampler\n",
    "from torch import optim\n",
    "from torch.optim.lr_scheduler import MultiStepLR\n",
    "#from torch.utils.tensorboard import SummaryWriter\n",
    "from torchvision import datasets, transforms\n",
    "import numpy as np\n",
    "import os\n",
    "from loss_functions.triplet_loss import TripletLoss\n",
    "import math\n",
    "import glob\n",
    "from os import listdir\n",
    "from os import walk\n",
    "import PIL.Image as Image\n",
    "from matplotlib import pyplot as plt"
   ]
  },
  {
   "cell_type": "code",
   "execution_count": 3,
   "id": "downtown-disclosure",
   "metadata": {},
   "outputs": [
    {
     "name": "stdout",
     "output_type": "stream",
     "text": [
      "torch version:1.8.0\n",
      "Available GPUs: GeForce RTX 2080 Ti GeForce GTX 1080 Ti "
     ]
    }
   ],
   "source": [
    "DATA_PATH_TRAIN = '../../dataset/face_labeled_data/train'\n",
    "DATA_PATH_VAL = '../../dataset/face_labeled_data/val'\n",
    "BATCH_SIZE = 32\n",
    "WORKERS = 8\n",
    "epochs = 100\n",
    "\n",
    "print('torch version:' + torch.__version__)\n",
    "\n",
    "if torch.cuda.is_available():\n",
    "    device = torch.device('cuda')\n",
    "    print('Available GPUs: ', end='')\n",
    "    for i in range(torch.cuda.device_count()):\n",
    "        print(torch.cuda.get_device_name(i), end=' ')\n",
    "else:\n",
    "    device = torch.device('cpu')\n",
    "    print('CUDA is not available.')"
   ]
  },
  {
   "cell_type": "markdown",
   "id": "brazilian-rendering",
   "metadata": {},
   "source": [
    "# Dataset"
   ]
  },
  {
   "cell_type": "markdown",
   "id": "frozen-syndicate",
   "metadata": {},
   "source": [
    "#### Define dataset, and dataloader"
   ]
  },
  {
   "cell_type": "code",
   "execution_count": 4,
   "id": "royal-holiday",
   "metadata": {},
   "outputs": [],
   "source": [
    "trans = transforms.Compose([\n",
    "    np.float32,\n",
    "    transforms.ToTensor(),\n",
    "    fixed_image_standardization\n",
    "])\n",
    "dataset_train = datasets.ImageFolder(DATA_PATH_TRAIN, transform=trans)\n",
    "dataset_val = datasets.ImageFolder(DATA_PATH_VAL, transform=trans)\n",
    "\n",
    "train_loader = DataLoader(\n",
    "    dataset_train,\n",
    "    num_workers=WORKERS,\n",
    "    batch_size=BATCH_SIZE,\n",
    "    shuffle=True\n",
    ")\n",
    "val_loader = DataLoader(\n",
    "    dataset_val,\n",
    "    num_workers=WORKERS,\n",
    "    batch_size=BATCH_SIZE,\n",
    "    shuffle=True\n",
    ")"
   ]
  },
  {
   "cell_type": "markdown",
   "id": "funny-comfort",
   "metadata": {},
   "source": [
    "# model"
   ]
  },
  {
   "cell_type": "markdown",
   "id": "rubber-better",
   "metadata": {},
   "source": [
    " ### define optimizer, scheduler"
   ]
  },
  {
   "cell_type": "code",
   "execution_count": 5,
   "id": "conventional-greene",
   "metadata": {},
   "outputs": [],
   "source": [
    "resnet = InceptionResnetV1(\n",
    "    classify=True,\n",
    "    pretrained='vggface2',\n",
    "    num_classes=len(dataset_train.class_to_idx)\n",
    ").to(device)\n",
    "optimizer = optim.Adam(resnet.parameters(), lr=0.001)\n",
    "scheduler = MultiStepLR(optimizer, [5, 10])"
   ]
  },
  {
   "cell_type": "markdown",
   "id": "united-cooper",
   "metadata": {},
   "source": [
    "#### Define loss and evaluation functions"
   ]
  },
  {
   "cell_type": "code",
   "execution_count": 6,
   "id": "deluxe-masters",
   "metadata": {},
   "outputs": [],
   "source": [
    "loss_fn = TripletLoss(device)\n",
    "\n",
    "def accuracy(logits, y):\n",
    "    _, preds = torch.max(logits, 1)\n",
    "    return (preds == y).float().mean()\n",
    "\n",
    "metrics = {\n",
    "    'acc': accuracy\n",
    "}"
   ]
  },
  {
   "cell_type": "markdown",
   "id": "reduced-korean",
   "metadata": {},
   "source": [
    "#### Train model"
   ]
  },
  {
   "cell_type": "code",
   "execution_count": 7,
   "id": "dietary-salad",
   "metadata": {},
   "outputs": [],
   "source": [
    "def save_checkpoint(state, is_best, filename='checkpoint.pth.tar'):\n",
    "    torch.save(state, filename)\n",
    "    if is_best:\n",
    "        shutil.copyfile(filename, 'model_best.pth.tar')"
   ]
  },
  {
   "cell_type": "code",
   "execution_count": 12,
   "id": "naughty-output",
   "metadata": {},
   "outputs": [],
   "source": [
    "def update_loss_hist(train_loss, eval_loss, is_end):\n",
    "    clear_output(wait=True)\n",
    "    plt.plot(train_loss)\n",
    "    plt.plot(eval_loss)\n",
    "    plt.title('facenet loss')\n",
    "    plt.ylabel('TripletLoss')\n",
    "    plt.xlabel('Epochs')\n",
    "    plt.legend(['train', 'val'], loc='center right')\n",
    "    if (is_end):\n",
    "        plt.savefig('TripletLoss_result.png')\n",
    "    plt.show()"
   ]
  },
  {
   "cell_type": "code",
   "execution_count": 13,
   "id": "dense-defense",
   "metadata": {},
   "outputs": [],
   "source": [
    "def pass_epoch(loader, mode = 'Train'):\n",
    "    loss = 0\n",
    "    for i_batch, image_batch in tqdm(enumerate(loader)):\n",
    "        x, y = image_batch[0].to(device), image_batch[1].to(device)\n",
    "        if mode == 'Train':\n",
    "            resnet.train()\n",
    "        elif mode == 'Eval':\n",
    "            resnet.eval()\n",
    "        else:\n",
    "            print('error model mode!')\n",
    "        y_pred = resnet(x)\n",
    "        loss_batch = loss_fn(y_pred, y)\n",
    "        if (torch.isnan(loss_batch)):\n",
    "            continue\n",
    "        if mode == 'Train':\n",
    "            loss_batch.backward()\n",
    "            optimizer.step()\n",
    "            optimizer.zero_grad()\n",
    "        \n",
    "        loss_batch = loss_batch.detach().cpu()\n",
    "        loss += loss_batch\n",
    "    return loss / (i_batch + 1)"
   ]
  },
  {
   "cell_type": "code",
   "execution_count": null,
   "id": "level-spine",
   "metadata": {},
   "outputs": [
    {
     "data": {
      "image/png": "[encoded data removed]",
      "text/plain": [
       "<Figure size 432x288 with 1 Axes>"
      ]
     },
     "metadata": {
      "needs_background": "light"
     },
     "output_type": "display_data"
    },
    {
     "name": "stdout",
     "output_type": "stream",
     "text": [
      "\n",
      "Epoch 2/100\n",
      "----------\n"
     ]
    },
    {
     "name": "stderr",
     "output_type": "stream",
     "text": [
      "557it [01:48,  5.11it/s]\n",
      "39it [00:02, 17.56it/s]"
     ]
    }
   ],
   "source": [
    "from tqdm import tqdm \n",
    "from matplotlib import pyplot as plt\n",
    "from IPython.display import clear_output\n",
    "\n",
    "train_loss_history = []\n",
    "val_loss_history = []\n",
    "for epoch in range(epochs):\n",
    "    print('\\nEpoch {}/{}'.format(epoch + 1, epochs))\n",
    "    print('-' * 10)\n",
    "    loss = 0\n",
    "    train_loss = pass_epoch(train_loader, 'Train')  \n",
    "    val_loss = pass_epoch(val_loader, 'Eval')  \n",
    "    train_loss_history.append(train_loss)\n",
    "    val_loss_history.append(val_loss)\n",
    "    update_loss_hist(train_loss_history, val_loss_history, False)\n",
    "    save_checkpoint({\n",
    "        'epoch': epoch + 1,\n",
    "        'arch': 'facenet',\n",
    "        'state_dict': resnet.state_dict(),\n",
    "        'optimizer' : optimizer.state_dict(),\n",
    "    }, is_best=False, filename='./model_facenet/checkpoint_{:04d}.pth.tar'.format(epoch + 1))\n",
    "update_loss_hist(train_loss_history, val_loss_history, True)"
   ]
  },
  {
   "cell_type": "code",
   "execution_count": null,
   "id": "about-highlight",
   "metadata": {},
   "outputs": [],
   "source": []
  },
  {
   "cell_type": "code",
   "execution_count": null,
   "id": "tropical-defensive",
   "metadata": {},
   "outputs": [],
   "source": []
  }
 ],
 "metadata": {
  "kernelspec": {
   "display_name": "Python 3",
   "language": "python",
   "name": "python3"
  },
  "language_info": {
   "codemirror_mode": {
    "name": "ipython",
    "version": 3
   },
   "file_extension": ".py",
   "mimetype": "text/x-python",
   "name": "python",
   "nbconvert_exporter": "python",
   "pygments_lexer": "ipython3",
   "version": "3.7.10"
  }
 },
 "nbformat": 4,
 "nbformat_minor": 5
}
