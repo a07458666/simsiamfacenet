{
 "cells": [
  {
   "cell_type": "markdown",
   "id": "union-estate",
   "metadata": {},
   "source": [
    "# 單純只使用simsiam \n",
    "## embedding判斷人臉"
   ]
  },
  {
   "cell_type": "markdown",
   "id": "informed-fever",
   "metadata": {},
   "source": [
    "### import package"
   ]
  },
  {
   "cell_type": "code",
   "execution_count": 3,
   "id": "closed-joint",
   "metadata": {},
   "outputs": [],
   "source": [
    "import os\n",
    "import numpy as np\n",
    "import torch\n",
    "import glob\n",
    "from torch.utils.data import Dataset\n",
    "from torch.utils.data import DataLoader, SubsetRandomSampler\n",
    "from torch import optim\n",
    "from torch import nn\n",
    "from torchvision import datasets, transforms\n",
    "from os import listdir\n",
    "from os import walk\n",
    "from facenet_pytorch import MTCNN, InceptionResnetV1, fixed_image_standardization\n",
    "import PIL.Image as Image\n",
    "from matplotlib import pyplot as plt\n",
    "import simsiam.loader\n",
    "from torch.optim.lr_scheduler import MultiStepLR\n",
    "from tqdm import tqdm \n",
    "from IPython.display import clear_output\n",
    "import math\n",
    "import torch.nn.functional as F\n",
    "from torch.nn import DataParallel\n",
    "from sync_batchnorm import SynchronizedBatchNorm1d,  patch_replication_callback"
   ]
  },
  {
   "cell_type": "markdown",
   "id": "secret-dealer",
   "metadata": {},
   "source": [
    "### check gpu"
   ]
  },
  {
   "cell_type": "code",
   "execution_count": 54,
   "id": "labeled-zimbabwe",
   "metadata": {},
   "outputs": [
    {
     "name": "stdout",
     "output_type": "stream",
     "text": [
      "torch version:1.8.0\n",
      "Available GPUs: GeForce RTX 2080 Ti GeForce GTX 1080 Ti "
     ]
    }
   ],
   "source": [
    "DATA_PATH_TRAIN = '../../dataset/face_labeled_data/train'\n",
    "DATA_PATH_VAL = '../../dataset/face_labeled_data/val'\n",
    "DATA_PATH_TEST = '../../dataset/face_labeled_data/test'\n",
    "# DATA_PATH_NEVER = '../../dataset/face_labeled_data/never_seen'\n",
    "DATA_PATH_NEVER = '../../dataset/CASIA-WebFace'\n",
    "\n",
    "\n",
    "# MODEL_PATH = \"./model_facenet_simsiam/checkpoint_0100.pth.tar\"\n",
    "# MODEL_PATH = \"./model_featureExtraction_triplet/checkpoint_0100.pth.tar\"\n",
    "MODEL_PATH = \"./model_V2_1024_fix_only_cross/checkpoint.pth.tar\"\n",
    "BATCH_SIZE = 32\n",
    "WORKERS = 8\n",
    "\n",
    "print('torch version:' + torch.__version__)\n",
    "\n",
    "if torch.cuda.is_available():\n",
    "    device = torch.device('cuda')\n",
    "    print('Available GPUs: ', end='')\n",
    "    for i in range(torch.cuda.device_count()):\n",
    "        print(torch.cuda.get_device_name(i), end=' ')\n",
    "else:\n",
    "    device = torch.device('cpu')\n",
    "    print('CUDA is not available.')"
   ]
  },
  {
   "cell_type": "markdown",
   "id": "encouraging-wireless",
   "metadata": {},
   "source": [
    "### Data augmentation"
   ]
  },
  {
   "cell_type": "code",
   "execution_count": 55,
   "id": "intimate-activation",
   "metadata": {},
   "outputs": [],
   "source": [
    "normalize = transforms.Normalize(mean=[0.485, 0.456, 0.406], std=[0.229, 0.224, 0.225])\n",
    "                          \n",
    "def get_aug_trnsform(s=1.0):\n",
    "    color_jitter = transforms.ColorJitter(0.8*s, 0.8*s, 0.8*s, 0.1)\n",
    "\n",
    "    transform = transforms.Compose([\n",
    "        transforms.RandomResizedCrop(224, scale=(0.2, 1.)),\n",
    "        transforms.RandomApply([\n",
    "            transforms.ColorJitter(0.4, 0.4, 0.4, 0.1)  # not strengthened\n",
    "        ], p=0.8),\n",
    "        transforms.RandomGrayscale(p=0.2),\n",
    "        transforms.RandomApply([simsiam.loader.GaussianBlur([.1, 2.])], p=0.5),\n",
    "        transforms.RandomHorizontalFlip(),\n",
    "        transforms.ToTensor(),\n",
    "        normalize\n",
    "    ])\n",
    "    \n",
    "    return transform\n",
    "\n",
    "def ge_eval_trnsform(s=1.0):\n",
    "    color_jitter = transforms.ColorJitter(0.8*s, 0.8*s, 0.8*s, 0.1)\n",
    "\n",
    "    transform = transforms.Compose([\n",
    "        transforms.ToTensor(),\n",
    "        normalize\n",
    "    ])\n",
    "    \n",
    "    return transform\n",
    "\n",
    "trans_aug = get_aug_trnsform(0.5)\n",
    "trans_eval = get_aug_trnsform(0.5)"
   ]
  },
  {
   "cell_type": "markdown",
   "id": "special-diagram",
   "metadata": {},
   "source": [
    "#### Define dataset, and dataloader"
   ]
  },
  {
   "cell_type": "code",
   "execution_count": 56,
   "id": "equivalent-conversion",
   "metadata": {},
   "outputs": [],
   "source": [
    "class FaceImages(Dataset):\n",
    "    \n",
    "    def __init__(self, img_dir, transform, specific = '**'):\n",
    "        self.img_dir = img_dir\n",
    "        self.img_path_list = glob.glob(os.path.join(img_dir, specific + '/*.jpg'))\n",
    "        self.transform = transform\n",
    "        \n",
    "    def __len__(self):\n",
    "        return len(self.img_path_list)\n",
    "    \n",
    "    def __getitem__(self, idx):\n",
    "        img_path = self.img_path_list[idx]\n",
    "        img = FaceImages.read_image(img_path)\n",
    "        target = img_path.split('/')[5]\n",
    "        return self.transform(img), self.transform(img), target\n",
    "    \n",
    "    @staticmethod\n",
    "    def read_image(img_path):\n",
    "        #return cv2.imread(img_path)\n",
    "        return Image.open(img_path, mode='r').convert('RGB')"
   ]
  },
  {
   "cell_type": "code",
   "execution_count": 57,
   "id": "vietnamese-pocket",
   "metadata": {},
   "outputs": [],
   "source": [
    "# dataset_train = FaceImages(DATA_PATH_TRAIN, transform=trans_aug)\n",
    "# dataset_val = FaceImages(DATA_PATH_VAL, transform=trans_eval)\n",
    "# dataset_test = FaceImages(DATA_PATH_TEST, transform=trans_eval)\n",
    "\n",
    "trans = transforms.Compose([\n",
    "    np.float32,\n",
    "    transforms.ToTensor(),\n",
    "    fixed_image_standardization\n",
    "])\n",
    "\n",
    "dataset_train = datasets.ImageFolder(DATA_PATH_TRAIN, transform=trans)\n",
    "dataset_val = datasets.ImageFolder(DATA_PATH_VAL, transform=trans)\n",
    "dataset_test = datasets.ImageFolder(DATA_PATH_TEST, transform=trans)\n",
    "dataset_never = datasets.ImageFolder(DATA_PATH_NEVER, transform=trans)\n",
    "\n",
    "train_loader = DataLoader(\n",
    "    dataset_train,\n",
    "    num_workers=WORKERS,\n",
    "    batch_size=BATCH_SIZE,\n",
    "    shuffle=True\n",
    ")\n",
    "val_loader = DataLoader(\n",
    "    dataset_val,\n",
    "    num_workers=WORKERS,\n",
    "    batch_size=BATCH_SIZE,\n",
    "    shuffle=False\n",
    ")\n",
    "test_loader = DataLoader(\n",
    "    dataset_test,\n",
    "    num_workers=WORKERS,\n",
    "    batch_size=BATCH_SIZE,\n",
    "    shuffle=False\n",
    ")\n",
    "\n",
    "never_loader = DataLoader(\n",
    "    dataset_never,\n",
    "    num_workers=WORKERS,\n",
    "    batch_size=BATCH_SIZE,\n",
    "    shuffle=False\n",
    ")"
   ]
  },
  {
   "cell_type": "markdown",
   "id": "animated-offer",
   "metadata": {},
   "source": [
    "### load model"
   ]
  },
  {
   "cell_type": "code",
   "execution_count": 58,
   "id": "technological-color",
   "metadata": {},
   "outputs": [],
   "source": [
    "# make embedding to length=1\n",
    "class L2_norm(nn.Module):\n",
    "    def __init__(self):\n",
    "        super(L2_norm, self).__init__()\n",
    "\n",
    "    def forward(self, x):\n",
    "        return F.normalize(x, p=2, dim=-1)"
   ]
  },
  {
   "cell_type": "code",
   "execution_count": 59,
   "id": "variable-empire",
   "metadata": {},
   "outputs": [],
   "source": [
    "import torchvision.models as models\n",
    "\n",
    "def loadEvalModel(model_path):\n",
    "#     backbone = InceptionResnetV1()\n",
    "#     projector = nn.Sequential(\n",
    "#     nn.Linear(512, 2048), nn.BatchNorm1d(2048), nn.ReLU(),\n",
    "#     nn.Linear(2048, 2048), nn.BatchNorm1d(2048), nn.ReLU(),\n",
    "#     nn.Linear(2048, 512), L2_norm()\n",
    "#     ) \n",
    "#     projector = nn.Sequential(\n",
    "#         nn.Linear(512, 1024), nn.BatchNorm1d(1024), nn.ReLU(),\n",
    "#         nn.Linear(1024, 1024), nn.BatchNorm1d(1024), nn.ReLU(),\n",
    "#         nn.Linear(1024, 512), L2_norm()\n",
    "#     ) \n",
    "#     model = nn.Sequential(\n",
    "#     backbone,\n",
    "#     projector\n",
    "#     )\n",
    "#     model = InceptionResnetV1()\n",
    "#     model.load_state_dict(torch.load(model_path)['state_dict'])\n",
    "#     model = torch.load(MODEL_PATH)\n",
    "#     model = InceptionResnetV1(pretrained = 'casia-webface')\n",
    "#     model = InceptionResnetV1(pretrained = 'vggface2')\n",
    "    model = models.resnet50(pretrained=True).to(device)\n",
    "\n",
    "    model.to(device)\n",
    "    model.eval()\n",
    "    return model"
   ]
  },
  {
   "cell_type": "markdown",
   "id": "naughty-tattoo",
   "metadata": {},
   "source": [
    "### collapse check(simularity matrix)"
   ]
  },
  {
   "cell_type": "code",
   "execution_count": 60,
   "id": "accepted-toddler",
   "metadata": {},
   "outputs": [],
   "source": [
    "def collapseCheck(model, loader):\n",
    "    x, _ = next(iter(loader))\n",
    "    h = model(x.to(device))\n",
    "    h_norm = h / h.norm(dim=1)[:, None]\n",
    "    res = torch.mm(h_norm, h_norm.transpose(0,1))\n",
    "    print(res.cpu().detach().numpy())"
   ]
  },
  {
   "cell_type": "markdown",
   "id": "sorted-sport",
   "metadata": {},
   "source": [
    "### validation"
   ]
  },
  {
   "cell_type": "code",
   "execution_count": 80,
   "id": "wrapped-necklace",
   "metadata": {},
   "outputs": [],
   "source": [
    "def validation(data_loader, model):\n",
    "    y_pre_list = []\n",
    "    y_list = []    \n",
    "    for i_batch, image_batch in tqdm(enumerate(data_loader)):\n",
    "        x = image_batch[0].to(device)\n",
    "        y = image_batch[1]\n",
    "        y_pre = model(x)\n",
    "        y_pre = y_pre.cpu().detach().numpy()\n",
    "        for j, data in enumerate(y_pre):\n",
    "            y_pre_list.append(data)\n",
    "            y_list.append(int(y[j]))\n",
    "        if (len(y_list) > 3000):\n",
    "            break\n",
    "    return y_pre_list, y_list"
   ]
  },
  {
   "cell_type": "code",
   "execution_count": 81,
   "id": "preceding-shame",
   "metadata": {},
   "outputs": [
    {
     "name": "stdout",
     "output_type": "stream",
     "text": [
      "val data size =  494424\n"
     ]
    }
   ],
   "source": [
    "size=dataset_never.__len__()\n",
    "print('val data size = ', size)"
   ]
  },
  {
   "cell_type": "markdown",
   "id": "national-palestine",
   "metadata": {},
   "source": [
    "### 計算兩embeddings之距離\n",
    "distance_metric = 0 歐幾里得距離  (Euclidean distance)  \n",
    "distance_metric = 1 餘弦相似性 (Cosine similarity)"
   ]
  },
  {
   "cell_type": "code",
   "execution_count": 82,
   "id": "assigned-accreditation",
   "metadata": {},
   "outputs": [],
   "source": [
    "def distance(embeddings1, embeddings2, distance_metric=0):\n",
    "    if distance_metric==0:\n",
    "        # Euclidean distance\n",
    "        diff = np.subtract(embeddings1, embeddings2)\n",
    "        dist = np.sum(np.square(diff),0)\n",
    "    elif distance_metric==1:\n",
    "        # Distance based on cosine similarity\n",
    "        dot = np.sum(np.multiply(embeddings1, embeddings2), axis=0)\n",
    "        norm = np.linalg.norm(embeddings1, axis=0) * np.linalg.norm(embeddings2, axis=0)\n",
    "        similarity = dot / norm\n",
    "        dist = np.arccos(similarity) / math.pi\n",
    "    else:\n",
    "        raise 'Undefined distance metric %d' % distance_metric \n",
    "    return dist"
   ]
  },
  {
   "cell_type": "markdown",
   "id": "minimal-supplier",
   "metadata": {},
   "source": [
    "### 計算Cluste  離散度\n",
    "1.根據target分群  \n",
    "2.計算每一群中心點  \n",
    "3.每一群的所有點對中心點計算歐式距離  \n",
    "4.上步驟所有距離取平均  \n",
    "5.所有群的平均距離再取平均  \n"
   ]
  },
  {
   "cell_type": "code",
   "execution_count": 83,
   "id": "figured-landscape",
   "metadata": {},
   "outputs": [],
   "source": [
    "def calculateClusterDistance(y_pre, target):\n",
    "    dist = []\n",
    "    y_new = np.array(y_pre)\n",
    "    for index, target_str in enumerate(np.unique(target)):\n",
    "        cluster_dist = 0\n",
    "        data = y_new[[x for x, y in list(enumerate(target))if y == target_str]]\n",
    "        meanPoint = np.mean(data, axis=0)\n",
    "        for embedding in data:\n",
    "            cluster_dist += distance(embedding, meanPoint)\n",
    "        dist.append(cluster_dist / len(data))\n",
    "    return np.mean(dist)"
   ]
  },
  {
   "cell_type": "code",
   "execution_count": 84,
   "id": "resident-refund",
   "metadata": {},
   "outputs": [],
   "source": [
    "def calculateClusterVAL(y_pre, target, d = 1):\n",
    "    ta = []\n",
    "    y_new = np.array(y_pre)\n",
    "    for index, target_str in tqdm(enumerate(np.unique(target))):\n",
    "        data = y_new[[x for x, y in list(enumerate(target))if y == target_str]]\n",
    "        count = 0\n",
    "        ta_count = 0\n",
    "        if len(data) <= 1:\n",
    "            continue\n",
    "        for i in range(len(data) - 1):\n",
    "            for j in range(i + 1, len(data)):\n",
    "                count+=1\n",
    "                if distance(data[i], data[j]) <= d:\n",
    "                    ta_count+=1\n",
    "        ta.append(ta_count / count)\n",
    "    return np.mean(ta)\n",
    "def calculateClusterFAR(y_pre, target, d = 1):\n",
    "    fa = []\n",
    "    y_new = np.array(y_pre)\n",
    "    for index, target_str in tqdm(enumerate(np.unique(target))):\n",
    "        data = y_new[[x for x, y in list(enumerate(target))if y == target_str]]\n",
    "        other_data = y_new[[x for x, y in list(enumerate(target))if y != target_str]]\n",
    "        count = 0\n",
    "        fa_count = 0\n",
    "        if len(data) <= 1:\n",
    "            continue\n",
    "        for i in range(len(data)):\n",
    "            for j in range(len(other_data)):\n",
    "                count+=1\n",
    "                if distance(data[i], other_data[j]) <= d:\n",
    "                    fa_count+=1\n",
    "        fa.append(fa_count / count)\n",
    "    return np.mean(fa)\n",
    "\n",
    "def calculateClusterVAL_FAR(y_pre, target, val_d, far_d):\n",
    "    y_new = np.array(y_pre)\n",
    "    ta_count = 0\n",
    "    ta_count_true = 0\n",
    "    fa_count = 0\n",
    "    fa_count_true = 0\n",
    "    for i in range(len(y_new) - 1):\n",
    "        for j in range(i, len(y_new)):\n",
    "            dist = distance(y_new[i], y_new[j])\n",
    "            if target[i] == target[j]:\n",
    "                ta_count += 1\n",
    "                if dist <= val_d:\n",
    "                    ta_count_true += 1\n",
    "            else:\n",
    "                fa_count += 1\n",
    "                if dist <= far_d:\n",
    "                    fa_count_true +=1\n",
    "    return ta_count_true / ta_count, fa_count_true / fa_count"
   ]
  },
  {
   "cell_type": "markdown",
   "id": "numerous-conducting",
   "metadata": {},
   "source": [
    "### Acc公式\n",
    "對每一筆data找k個最近的data 看有多少是相同的class\n",
    "\n",
    "### TA 公式\n",
    "<img src=\"img/TA.png\" width=\"50%\">  \n",
    "\n",
    "### FA 公式\n",
    "<img src=\"img/FA.png\" width=\"50%\">  \n",
    "\n",
    "### VAL FAR\n",
    "<img src=\"img/VAL_FAR.png\" width=\"50%\"> "
   ]
  },
  {
   "cell_type": "markdown",
   "id": "difficult-rover",
   "metadata": {},
   "source": [
    "### gpu 算距離"
   ]
  },
  {
   "cell_type": "code",
   "execution_count": 85,
   "id": "knowing-butter",
   "metadata": {},
   "outputs": [],
   "source": [
    "def pdist(v):\n",
    "    dist = torch.norm(v[:, None] - v, dim=2, p=2)\n",
    "    return dist\n",
    "\n",
    "def pairwise_distance_torch(embeddings, device):\n",
    "    \"\"\"Computes the pairwise distance matrix with numerical stability.\n",
    "    output[i, j] = || feature[i, :] - feature[j, :] ||_2\n",
    "    Args:\n",
    "      embeddings: 2-D Tensor of size [number of data, feature dimension].\n",
    "    Returns:\n",
    "      pairwise_distances: 2-D Tensor of size [number of data, number of data].\n",
    "    \"\"\"\n",
    "\n",
    "    # pairwise distance matrix with precise embeddings\n",
    "    precise_embeddings = embeddings.to(dtype=torch.float32)\n",
    "\n",
    "    c1 = torch.pow(precise_embeddings, 2).sum(axis=-1)\n",
    "    c2 = torch.pow(precise_embeddings.transpose(0, 1), 2).sum(axis=0)\n",
    "    c3 = precise_embeddings @ precise_embeddings.transpose(0, 1)\n",
    "\n",
    "    c1 = c1.reshape((c1.shape[0], 1))\n",
    "    c2 = c2.reshape((1, c2.shape[0]))\n",
    "    c12 = c1 + c2\n",
    "    pairwise_distances_squared = c12 - 2.0 * c3\n",
    "\n",
    "    # Deal with numerical inaccuracies. Set small negatives to zero.\n",
    "    pairwise_distances_squared = torch.max(pairwise_distances_squared, torch.tensor([0.]).to(device))\n",
    "    # Get the mask where the zero distances are at.\n",
    "    error_mask = pairwise_distances_squared.clone()\n",
    "    error_mask[error_mask > 0.0] = 1.\n",
    "    error_mask[error_mask <= 0.0] = 0.\n",
    "\n",
    "    pairwise_distances = torch.mul(pairwise_distances_squared, error_mask)\n",
    "\n",
    "    # Explicitly set diagonals to zero.\n",
    "    mask_offdiagonals = torch.ones((pairwise_distances.shape[0], pairwise_distances.shape[1])) - torch.diag(torch.ones(pairwise_distances.shape[0]))\n",
    "    pairwise_distances = torch.mul(pairwise_distances.to(device), mask_offdiagonals.to(device))\n",
    "    return pairwise_distances\n",
    "\n",
    "def makemask(targets):\n",
    "    n = targets.shape[0]\n",
    "    # find the hardest positive and negative\n",
    "    mask_pos = targets.expand(n, n).eq(targets.expand(n, n).t())\n",
    "    mask_neg = ~mask_pos\n",
    "    mask_pos[torch.eye(n).byte().to(device)] = 0\n",
    "    return mask_pos, mask_neg\n",
    "\n",
    "def calculateClusterVAL_FAR_GPU(y_pre, target, val_d = 1., far_d = 1.):\n",
    "#     dist = pdist(torch.Tensor(y_pre).cpu())\n",
    "    dist = pairwise_distance_torch(torch.Tensor(y_pre).to(device), device).cpu()\n",
    "    mask_pos, mask_neg = makemask(torch.Tensor(target).cpu())\n",
    "    \n",
    "#     print(dist)\n",
    "    dist[dist == 0] = float('nan')\n",
    "    \n",
    "    pos = dist * mask_pos.float()\n",
    "#     print('pos pre', pos)\n",
    "    pos[pos == 0] = float('nan')\n",
    "\n",
    "    neg = dist * mask_neg.float()\n",
    "#     print('neg pre', neg)\n",
    "    neg[neg == 0] = float('nan')\n",
    "#     print('mask_pos ', mask_pos)\n",
    "#     print('mask_neg ', mask_neg)\n",
    "#     print('pos ', pos)\n",
    "#     print('neg ', neg)\n",
    "    ta = torch.sum(pos <= far_d)\n",
    "    fa = torch.sum(neg <= far_d)\n",
    "\n",
    "    psame = torch.sum(mask_pos == True)\n",
    "    pdiff = torch.sum(mask_neg == True)\n",
    "    \n",
    "    val = ta / psame\n",
    "    far = fa / pdiff\n",
    "    return val.detach().numpy(), far.detach().numpy()\n",
    "\n",
    "def calculateClusterACC_GPU(y_pre, target, k = 5):\n",
    "#     dist = pdist(torch.Tensor(y_pre).cpu())\n",
    "    dist = pairwise_distance_torch(torch.Tensor(y_pre).to(device), device).cpu()\n",
    "    dist[dist == 0] = float('nan')\n",
    "    mask_pos, mask_neg = makemask(torch.Tensor(target).cpu())\n",
    "    values, indices = torch.topk(dist, k, largest = False)\n",
    "    \n",
    "    acc_count = torch.sum(torch.gather(mask_pos, 1, indices) == True, 1)\n",
    "    acc = acc_count / k\n",
    "    return acc.detach().numpy().mean()\n",
    "\n",
    "def calculateClusterDistClose_GPU(y_pre, target):\n",
    "#     dist = pdist(torch.Tensor(y_pre).cpu())\n",
    "    dist = pairwise_distance_torch(torch.Tensor(y_pre).to(device), device).cpu()\n",
    "    mask_pos, mask_neg = makemask(torch.Tensor(target).cpu())    \n",
    "#     print(dist)\n",
    "    dist[dist == 0] = float('nan')\n",
    "    pos = dist * mask_pos.float()\n",
    "#     print('pos pre', pos)\n",
    "    pos[pos == 0] = float('nan')\n",
    "    neg = dist * mask_neg.float()\n",
    "#     print('neg pre', neg)\n",
    "    neg[neg == 0] = float('nan')\n",
    "#     print('mask_pos ', mask_pos)\n",
    "#     print('mask_neg ', mask_neg)\n",
    "#     print('pos ', pos)\n",
    "#     print('neg ', neg)\n",
    "    sameD_val = torch.nansum(pos)\n",
    "    diffD_val = torch.nansum(neg)\n",
    "\n",
    "    psame = torch.sum(mask_pos == True)\n",
    "    pdiff = torch.sum(mask_neg == True)\n",
    "    \n",
    "#     print('sameD_val ', sameD_val)\n",
    "#     print('diffD_val ', diffD_val)\n",
    "#     print('psame ', psame)\n",
    "#     print('pdiff ', pdiff)\n",
    "    sameD = sameD_val / psame\n",
    "    diffD = diffD_val / pdiff\n",
    "    return sameD.detach().numpy(), diffD.detach().numpy()"
   ]
  },
  {
   "cell_type": "code",
   "execution_count": 86,
   "id": "colored-format",
   "metadata": {},
   "outputs": [],
   "source": [
    "def cal(y_pre, y, kMax = 5):\n",
    "    valList = []\n",
    "    farList = []\n",
    "    accList = []\n",
    "    accK = []\n",
    "#     ds = [2, 1.5, 1, 0.5, 10**-1, 10**-2, 10**-3, 10**-4, 10**-5, 10**-6]\n",
    "    for i in tqdm(range(21)):\n",
    "        power = i - 1\n",
    "        val, far = calculateClusterVAL_FAR_GPU(y_pre, y, i / 10, i / 10)\n",
    "        valList.append(val)\n",
    "        farList.append(far)\n",
    "    for k in tqdm(range(1, kMax + 1)):\n",
    "        acc = calculateClusterACC_GPU(y_pre, y, k)\n",
    "        accList.append(acc)\n",
    "        accK.append(k)    \n",
    "    return valList, farList, accList, accK\n",
    "# valList, farList, accList, accK = cal(y_pre, y, 10)"
   ]
  },
  {
   "cell_type": "code",
   "execution_count": 87,
   "id": "infectious-james",
   "metadata": {},
   "outputs": [],
   "source": [
    "def showVAL_FAR_ACC(valList, farList, accList, accK):\n",
    "    fig, axs = plt.subplots(2, 1, figsize=(6, 10))\n",
    "    plt.title('VAL_FAR')\n",
    "    \n",
    "    axs[1].set_ylim([0,1])\n",
    "    \n",
    "    axs[0].title.set_text('VAL_FAR')\n",
    "    axs[1].title.set_text('acc(k)')\n",
    "\n",
    "    axs[0].set_xlabel('FAR')\n",
    "    axs[0].set_ylabel('VAL')\n",
    "\n",
    "    axs[1].set_xlabel('k')\n",
    "    axs[1].set_ylabel('acc')\n",
    "\n",
    "    # plt.legend(['model'], loc='center right')\n",
    "    axs[0].scatter(farList, valList)\n",
    "    axs[0].plot(farList, valList)\n",
    "    axs[1].scatter(accK, accList)\n",
    "    axs[1].plot(accK, accList)\n",
    "    \n",
    "    for x,y in zip(accK,accList):\n",
    "        label = \"{:.2f}\".format(y * 100)\n",
    "        plt.annotate(label, # this is the text\n",
    "                     (x,y), # these are the coordinates to position the label\n",
    "                     textcoords=\"offset points\", # how to position the text\n",
    "                     xytext=(0,10), # distance from text to points (x,y)\n",
    "                     ha='center') # horizontal alignment can be left, right or center\n",
    "\n",
    "    plt.savefig('ROC_ACC.png')\n",
    "    plt.show()\n",
    "# showVAL_FAR_ACC(valList, farList, accList, accK)"
   ]
  },
  {
   "cell_type": "markdown",
   "id": "consolidated-report",
   "metadata": {},
   "source": [
    "### PCA T-SNE"
   ]
  },
  {
   "cell_type": "code",
   "execution_count": 88,
   "id": "intended-exhibition",
   "metadata": {},
   "outputs": [],
   "source": [
    "from sklearn.decomposition import PCA\n",
    "def feature2pca(y_pre):\n",
    "    pca = PCA(n_components=2)\n",
    "    return pca.fit_transform(y_pre)"
   ]
  },
  {
   "cell_type": "code",
   "execution_count": 89,
   "id": "lined-registration",
   "metadata": {},
   "outputs": [],
   "source": [
    "from sklearn import manifold\n",
    "def featurn2tsne(y_pre):\n",
    "    return manifold.TSNE(n_components=2, init='random', random_state=5, verbose=0).fit_transform(y_pre)"
   ]
  },
  {
   "cell_type": "code",
   "execution_count": 90,
   "id": "supreme-adelaide",
   "metadata": {},
   "outputs": [],
   "source": [
    "def draw_cluster(ax, pca_data, target, name):\n",
    "    times = [0 for i in range(len(dataset_never.class_to_idx))]\n",
    "#     plt.legend(dataset_never.class_to_idx.keys(), loc='center right')\n",
    "    ax.set_title(name)\n",
    "    ax.set_ylabel('Y')\n",
    "    ax.set_xlabel('X')\n",
    "    \n",
    "    scatter = ax.scatter(pca_data[:,0], pca_data[:,1] , c=target, marker='o')#, cmap=cmap)\n",
    "    ax.legend(*scatter.legend_elements(), loc=1)"
   ]
  },
  {
   "cell_type": "code",
   "execution_count": 91,
   "id": "grave-ordering",
   "metadata": {},
   "outputs": [],
   "source": [
    "def auto_dimension_reduction(y_pre, y):\n",
    "    fig, axs = plt.subplots(2, 1, figsize=(6, 10))\n",
    "    y_pre_pca = feature2pca(y_pre)\n",
    "    y_pre_tsne = featurn2tsne(y_pre)\n",
    "    draw_cluster(axs[0], y_pre_pca, y, 'PCA')\n",
    "    draw_cluster(axs[1], y_pre_tsne, y, 'T-SNE')\n",
    "    plt.savefig('PCA_TSNE.png')\n",
    "    plt.show()"
   ]
  },
  {
   "cell_type": "markdown",
   "id": "geographic-community",
   "metadata": {},
   "source": [
    "### 一鍵測試"
   ]
  },
  {
   "cell_type": "code",
   "execution_count": null,
   "id": "labeled-ghana",
   "metadata": {},
   "outputs": [],
   "source": [
    "def auto_test(model_path):\n",
    "    fast_model = loadEvalModel(model_path)\n",
    "    collapseCheck(fast_model, never_loader)\n",
    "    y_pre, y = validation(never_loader, fast_model)\n",
    "    sameDist, diffDist = calculateClusterDistClose_GPU(y_pre, y)\n",
    "    print('sameDist ', sameDist, ', diffDist ', diffDist, ', S/D ', sameDist / diffDist)\n",
    "    valList, farList, accList, accK = cal(y_pre, y)\n",
    "    showVAL_FAR_ACC(valList, farList, accList, accK)\n",
    "    y_pre, y = validation(never_loader, fast_model)\n",
    "    return y_pre, y"
   ]
  },
  {
   "cell_type": "code",
   "execution_count": null,
   "id": "wired-namibia",
   "metadata": {},
   "outputs": [],
   "source": [
    "np.unique(y_1)\n",
    "for i in np.unique(y_1):\n",
    "    print(i, \", \", y_1.count(i))"
   ]
  },
  {
   "cell_type": "code",
   "execution_count": 94,
   "id": "rational-islam",
   "metadata": {},
   "outputs": [
    {
     "name": "stderr",
     "output_type": "stream",
     "text": [
      "Exception ignored in: <function _MultiProcessingDataLoaderIter.__del__ at 0x7fe6cbd717a0>\n",
      "Traceback (most recent call last):\n",
      "  File \"/opt/conda/lib/python3.7/site-packages/torch/utils/data/dataloader.py\", line 1324, in __del__\n",
      "    self._shutdown_workers()\n",
      "  File \"/opt/conda/lib/python3.7/site-packages/torch/utils/data/dataloader.py\", line 1316, in _shutdown_workers\n",
      "    if w.is_alive():\n",
      "  File \"/opt/conda/lib/python3.7/multiprocessing/process.py\", line 151, in is_alive\n",
      "    assert self._parent_pid == os.getpid(), 'can only test a child process'\n",
      "AssertionError: can only test a child process\n"
     ]
    },
    {
     "name": "stdout",
     "output_type": "stream",
     "text": [
      "[[1.         0.8324982  0.7707865  ... 0.77589005 0.8113765  0.82588387]\n",
      " [0.8324982  0.99999994 0.68076    ... 0.65604883 0.7636625  0.7638565 ]\n",
      " [0.7707865  0.68076    1.         ... 0.6815294  0.6643747  0.6968179 ]\n",
      " ...\n",
      " [0.77589005 0.65604883 0.6815294  ... 1.         0.8618603  0.8562677 ]\n",
      " [0.8113765  0.7636625  0.6643747  ... 0.8618603  1.0000001  0.87021655]\n",
      " [0.82588387 0.7638565  0.6968179  ... 0.8562677  0.87021655 1.        ]]\n"
     ]
    },
    {
     "name": "stderr",
     "output_type": "stream",
     "text": [
      "0it [00:00, ?it/s]Exception ignored in: <function _MultiProcessingDataLoaderIter.__del__ at 0x7fe6cbd717a0>\n",
      "Traceback (most recent call last):\n",
      "  File \"/opt/conda/lib/python3.7/site-packages/torch/utils/data/dataloader.py\", line 1324, in __del__\n",
      "    self._shutdown_workers()\n",
      "  File \"/opt/conda/lib/python3.7/site-packages/torch/utils/data/dataloader.py\", line 1316, in _shutdown_workers\n",
      "    if w.is_alive():\n",
      "  File \"/opt/conda/lib/python3.7/multiprocessing/process.py\", line 151, in is_alive\n",
      "    assert self._parent_pid == os.getpid(), 'can only test a child process'Exception ignored in: <function _MultiProcessingDataLoaderIter.__del__ at 0x7fe6cbd717a0>\n",
      "\n",
      "AssertionError: Traceback (most recent call last):\n",
      "can only test a child process  File \"/opt/conda/lib/python3.7/site-packages/torch/utils/data/dataloader.py\", line 1324, in __del__\n",
      "    \n",
      "self._shutdown_workers()\n",
      "  File \"/opt/conda/lib/python3.7/site-packages/torch/utils/data/dataloader.py\", line 1316, in _shutdown_workers\n",
      "    if w.is_alive():\n",
      "  File \"/opt/conda/lib/python3.7/multiprocessing/process.py\", line 151, in is_alive\n",
      "    assert self._parent_pid == os.getpid(), 'can only test a child process'\n",
      "1it [00:00,  5.84it/s]AssertionError: can only test a child process\n",
      "Exception ignored in: <function _MultiProcessingDataLoaderIter.__del__ at 0x7fe6cbd717a0>\n",
      "Traceback (most recent call last):\n",
      "  File \"/opt/conda/lib/python3.7/site-packages/torch/utils/data/dataloader.py\", line 1324, in __del__\n",
      "    self._shutdown_workers()\n",
      "  File \"/opt/conda/lib/python3.7/site-packages/torch/utils/data/dataloader.py\", line 1316, in _shutdown_workers\n",
      "Exception ignored in:     if w.is_alive():<function _MultiProcessingDataLoaderIter.__del__ at 0x7fe6cbd717a0>\n",
      "\n",
      "  File \"/opt/conda/lib/python3.7/multiprocessing/process.py\", line 151, in is_alive\n",
      "Traceback (most recent call last):\n",
      "      File \"/opt/conda/lib/python3.7/site-packages/torch/utils/data/dataloader.py\", line 1324, in __del__\n",
      "assert self._parent_pid == os.getpid(), 'can only test a child process'\n",
      "    AssertionErrorself._shutdown_workers()\n",
      "  File \"/opt/conda/lib/python3.7/site-packages/torch/utils/data/dataloader.py\", line 1316, in _shutdown_workers\n",
      "    : if w.is_alive():can only test a child process\n",
      "\n",
      "  File \"/opt/conda/lib/python3.7/multiprocessing/process.py\", line 151, in is_alive\n",
      "    assert self._parent_pid == os.getpid(), 'can only test a child process'\n",
      "AssertionError: can only test a child process\n",
      "93it [00:45,  2.02it/s]\n",
      "/opt/conda/lib/python3.7/site-packages/ipykernel_launcher.py:45: UserWarning: indexing with dtype torch.uint8 is now deprecated, please use a dtype torch.bool instead. (Triggered internally at  /opt/conda/conda-bld/pytorch_1614378098133/work/aten/src/ATen/native/IndexingUtils.h:30.)\n",
      "  0%|          | 0/21 [00:00<?, ?it/s]"
     ]
    },
    {
     "name": "stdout",
     "output_type": "stream",
     "text": [
      "sameDist  0.49780655 , diffDist  0.5707791 , S/D  0.87215275\n"
     ]
    },
    {
     "name": "stderr",
     "output_type": "stream",
     "text": [
      "100%|██████████| 21/21 [00:25<00:00,  1.23s/it]\n",
      "100%|██████████| 5/5 [00:04<00:00,  1.02it/s]\n"
     ]
    },
    {
     "data": {
      "image/png": "[encoded data removed]",
      "text/plain": [
       "<Figure size 432x720 with 2 Axes>"
      ]
     },
     "metadata": {
      "needs_background": "light"
     },
     "output_type": "display_data"
    },
    {
     "name": "stderr",
     "output_type": "stream",
     "text": [
      "93it [00:05, 16.47it/s]\n"
     ]
    }
   ],
   "source": [
    "MODEL_PATH = \"./model/model_simsiam_vicreg_cross/checkpoint.pth.tar\"\n",
    "y_pre_1, y_1 = auto_test(MODEL_PATH)\n",
    "# auto_dimension_reduction(y_pre_1, y_1)"
   ]
  },
  {
   "cell_type": "code",
   "execution_count": 51,
   "id": "powered-player",
   "metadata": {},
   "outputs": [],
   "source": [
    "def calculateClusterACC_GPU_FIX(y_pre, target, k = 5):\n",
    "    dist = pdist(torch.Tensor(y_pre).cpu())\n",
    "#     dist = pairwise_distance_torch(torch.Tensor(y_pre).to(device), device).cpu()\n",
    "#     print(\"dist A = \", dist)\n",
    "    dist[dist == 0] = float('nan')\n",
    "#     print(\"dist B = \", dist)\n",
    "    mask_pos, mask_neg = makemask(torch.Tensor(target).cpu())\n",
    "#     print(\"mask_pos = \", mask_pos)\n",
    "#     print(\"mask_neg = \", mask_neg)\n",
    "\n",
    "    values, indices = torch.topk(dist, k, largest = False)\n",
    "#     print(\"values = \", values)\n",
    "#     print(\"indices = \", indices)\n",
    "    torch.gather(mask_pos, 1, indices)\n",
    "    print(\"gather = \", torch.gather(mask_pos, 1, indices).int())\n",
    "    aaa = torch.gather(mask_pos, 1, indices).float()\n",
    "    acc_count = torch.sum(aaa, 1)\n",
    "    acc = acc_count / k\n",
    "    print(\"acc_count = \", acc_count)\n",
    "    print(\"acc = \", acc)\n",
    "    return acc.detach().numpy().mean()"
   ]
  },
  {
   "cell_type": "code",
   "execution_count": 52,
   "id": "outer-creativity",
   "metadata": {},
   "outputs": [
    {
     "name": "stderr",
     "output_type": "stream",
     "text": [
      "  0%|          | 0/9 [00:00<?, ?it/s]/opt/conda/lib/python3.7/site-packages/ipykernel_launcher.py:45: UserWarning: indexing with dtype torch.uint8 is now deprecated, please use a dtype torch.bool instead. (Triggered internally at  /opt/conda/conda-bld/pytorch_1614378098133/work/aten/src/ATen/native/IndexingUtils.h:30.)\n",
      "100%|██████████| 9/9 [00:00<00:00, 242.05it/s]\n"
     ]
    },
    {
     "name": "stdout",
     "output_type": "stream",
     "text": [
      "gather =  tensor([[1],\n",
      "        [1],\n",
      "        [1],\n",
      "        [1],\n",
      "        [1],\n",
      "        [1],\n",
      "        [1],\n",
      "        [1],\n",
      "        [1],\n",
      "        [1],\n",
      "        [1],\n",
      "        [1],\n",
      "        [1],\n",
      "        [1],\n",
      "        [1]], dtype=torch.int32)\n",
      "acc_count =  tensor([1., 1., 1., 1., 1., 1., 1., 1., 1., 1., 1., 1., 1., 1., 1.])\n",
      "acc =  tensor([1., 1., 1., 1., 1., 1., 1., 1., 1., 1., 1., 1., 1., 1., 1.])\n",
      "gather =  tensor([[1, 1],\n",
      "        [1, 1],\n",
      "        [1, 1],\n",
      "        [1, 1],\n",
      "        [1, 1],\n",
      "        [1, 1],\n",
      "        [1, 1],\n",
      "        [1, 1],\n",
      "        [1, 1],\n",
      "        [1, 1],\n",
      "        [1, 1],\n",
      "        [1, 1],\n",
      "        [1, 1],\n",
      "        [1, 1],\n",
      "        [1, 1]], dtype=torch.int32)\n",
      "acc_count =  tensor([2., 2., 2., 2., 2., 2., 2., 2., 2., 2., 2., 2., 2., 2., 2.])\n",
      "acc =  tensor([1., 1., 1., 1., 1., 1., 1., 1., 1., 1., 1., 1., 1., 1., 1.])\n",
      "gather =  tensor([[1, 1, 1],\n",
      "        [1, 1, 1],\n",
      "        [1, 1, 1],\n",
      "        [1, 1, 1],\n",
      "        [1, 1, 1],\n",
      "        [1, 1, 1],\n",
      "        [1, 1, 1],\n",
      "        [1, 1, 1],\n",
      "        [1, 1, 1],\n",
      "        [1, 1, 1],\n",
      "        [1, 1, 1],\n",
      "        [1, 1, 1],\n",
      "        [1, 1, 1],\n",
      "        [1, 1, 1],\n",
      "        [1, 1, 1]], dtype=torch.int32)\n",
      "acc_count =  tensor([3., 3., 3., 3., 3., 3., 3., 3., 3., 3., 3., 3., 3., 3., 3.])\n",
      "acc =  tensor([1., 1., 1., 1., 1., 1., 1., 1., 1., 1., 1., 1., 1., 1., 1.])\n",
      "gather =  tensor([[1, 1, 1, 1],\n",
      "        [1, 1, 1, 1],\n",
      "        [1, 1, 1, 1],\n",
      "        [1, 1, 1, 1],\n",
      "        [1, 1, 1, 1],\n",
      "        [1, 1, 1, 1],\n",
      "        [1, 1, 1, 1],\n",
      "        [1, 1, 1, 1],\n",
      "        [1, 1, 1, 1],\n",
      "        [1, 1, 1, 1],\n",
      "        [1, 1, 1, 1],\n",
      "        [1, 1, 1, 1],\n",
      "        [1, 1, 1, 1],\n",
      "        [1, 1, 1, 1],\n",
      "        [1, 1, 1, 1]], dtype=torch.int32)\n",
      "acc_count =  tensor([4., 4., 4., 4., 4., 4., 4., 4., 4., 4., 4., 4., 4., 4., 4.])\n",
      "acc =  tensor([1., 1., 1., 1., 1., 1., 1., 1., 1., 1., 1., 1., 1., 1., 1.])\n",
      "gather =  tensor([[1, 1, 1, 1, 0],\n",
      "        [1, 1, 1, 1, 0],\n",
      "        [1, 1, 1, 1, 0],\n",
      "        [1, 1, 1, 1, 0],\n",
      "        [1, 1, 1, 1, 0],\n",
      "        [1, 1, 1, 1, 0],\n",
      "        [1, 1, 1, 1, 0],\n",
      "        [1, 1, 1, 1, 0],\n",
      "        [1, 1, 1, 1, 0],\n",
      "        [1, 1, 1, 1, 0],\n",
      "        [1, 1, 1, 1, 0],\n",
      "        [1, 1, 1, 1, 0],\n",
      "        [1, 1, 1, 1, 0],\n",
      "        [1, 1, 1, 1, 0],\n",
      "        [1, 1, 1, 1, 0]], dtype=torch.int32)\n",
      "acc_count =  tensor([4., 4., 4., 4., 4., 4., 4., 4., 4., 4., 4., 4., 4., 4., 4.])\n",
      "acc =  tensor([0.8000, 0.8000, 0.8000, 0.8000, 0.8000, 0.8000, 0.8000, 0.8000, 0.8000,\n",
      "        0.8000, 0.8000, 0.8000, 0.8000, 0.8000, 0.8000])\n",
      "gather =  tensor([[1, 1, 1, 1, 0, 0],\n",
      "        [1, 1, 1, 1, 0, 0],\n",
      "        [1, 1, 1, 1, 0, 0],\n",
      "        [1, 1, 1, 1, 0, 0],\n",
      "        [1, 1, 1, 1, 0, 0],\n",
      "        [1, 1, 1, 1, 0, 0],\n",
      "        [1, 1, 1, 1, 0, 0],\n",
      "        [1, 1, 1, 1, 0, 0],\n",
      "        [1, 1, 1, 1, 0, 0],\n",
      "        [1, 1, 1, 1, 0, 0],\n",
      "        [1, 1, 1, 1, 0, 0],\n",
      "        [1, 1, 1, 1, 0, 0],\n",
      "        [1, 1, 1, 1, 0, 0],\n",
      "        [1, 1, 1, 1, 0, 0],\n",
      "        [1, 1, 1, 1, 0, 0]], dtype=torch.int32)\n",
      "acc_count =  tensor([4., 4., 4., 4., 4., 4., 4., 4., 4., 4., 4., 4., 4., 4., 4.])\n",
      "acc =  tensor([0.6667, 0.6667, 0.6667, 0.6667, 0.6667, 0.6667, 0.6667, 0.6667, 0.6667,\n",
      "        0.6667, 0.6667, 0.6667, 0.6667, 0.6667, 0.6667])\n",
      "gather =  tensor([[1, 1, 1, 1, 0, 0, 0],\n",
      "        [1, 1, 1, 1, 0, 0, 0],\n",
      "        [1, 1, 1, 1, 0, 0, 0],\n",
      "        [1, 1, 1, 1, 0, 0, 0],\n",
      "        [1, 1, 1, 1, 0, 0, 0],\n",
      "        [1, 1, 1, 1, 0, 0, 0],\n",
      "        [1, 1, 1, 1, 0, 0, 0],\n",
      "        [1, 1, 1, 1, 0, 0, 0],\n",
      "        [1, 1, 1, 1, 0, 0, 0],\n",
      "        [1, 1, 1, 1, 0, 0, 0],\n",
      "        [1, 1, 1, 1, 0, 0, 0],\n",
      "        [1, 1, 1, 1, 0, 0, 0],\n",
      "        [1, 1, 1, 1, 0, 0, 0],\n",
      "        [1, 1, 1, 1, 0, 0, 0],\n",
      "        [1, 1, 1, 1, 0, 0, 0]], dtype=torch.int32)\n",
      "acc_count =  tensor([4., 4., 4., 4., 4., 4., 4., 4., 4., 4., 4., 4., 4., 4., 4.])\n",
      "acc =  tensor([0.5714, 0.5714, 0.5714, 0.5714, 0.5714, 0.5714, 0.5714, 0.5714, 0.5714,\n",
      "        0.5714, 0.5714, 0.5714, 0.5714, 0.5714, 0.5714])\n",
      "gather =  tensor([[1, 1, 1, 1, 0, 0, 0, 0],\n",
      "        [1, 1, 1, 1, 0, 0, 0, 0],\n",
      "        [1, 1, 1, 1, 0, 0, 0, 0],\n",
      "        [1, 1, 1, 1, 0, 0, 0, 0],\n",
      "        [1, 1, 1, 1, 0, 0, 0, 0],\n",
      "        [1, 1, 1, 1, 0, 0, 0, 0],\n",
      "        [1, 1, 1, 1, 0, 0, 0, 0],\n",
      "        [1, 1, 1, 1, 0, 0, 0, 0],\n",
      "        [1, 1, 1, 1, 0, 0, 0, 0],\n",
      "        [1, 1, 1, 1, 0, 0, 0, 0],\n",
      "        [1, 1, 1, 1, 0, 0, 0, 0],\n",
      "        [1, 1, 1, 1, 0, 0, 0, 0],\n",
      "        [1, 1, 1, 1, 0, 0, 0, 0],\n",
      "        [1, 1, 1, 1, 0, 0, 0, 0],\n",
      "        [1, 1, 1, 1, 0, 0, 0, 0]], dtype=torch.int32)\n",
      "acc_count =  tensor([4., 4., 4., 4., 4., 4., 4., 4., 4., 4., 4., 4., 4., 4., 4.])\n",
      "acc =  tensor([0.5000, 0.5000, 0.5000, 0.5000, 0.5000, 0.5000, 0.5000, 0.5000, 0.5000,\n",
      "        0.5000, 0.5000, 0.5000, 0.5000, 0.5000, 0.5000])\n",
      "gather =  tensor([[1, 1, 1, 1, 0, 0, 0, 0, 0],\n",
      "        [1, 1, 1, 1, 0, 0, 0, 0, 0],\n",
      "        [1, 1, 1, 1, 0, 0, 0, 0, 0],\n",
      "        [1, 1, 1, 1, 0, 0, 0, 0, 0],\n",
      "        [1, 1, 1, 1, 0, 0, 0, 0, 0],\n",
      "        [1, 1, 1, 1, 0, 0, 0, 0, 0],\n",
      "        [1, 1, 1, 1, 0, 0, 0, 0, 0],\n",
      "        [1, 1, 1, 1, 0, 0, 0, 0, 0],\n",
      "        [1, 1, 1, 1, 0, 0, 0, 0, 0],\n",
      "        [1, 1, 1, 1, 0, 0, 0, 0, 0],\n",
      "        [1, 1, 1, 1, 0, 0, 0, 0, 0],\n",
      "        [1, 1, 1, 1, 0, 0, 0, 0, 0],\n",
      "        [1, 1, 1, 1, 0, 0, 0, 0, 0],\n",
      "        [1, 1, 1, 1, 0, 0, 0, 0, 0],\n",
      "        [1, 1, 1, 1, 0, 0, 0, 0, 0]], dtype=torch.int32)\n",
      "acc_count =  tensor([4., 4., 4., 4., 4., 4., 4., 4., 4., 4., 4., 4., 4., 4., 4.])\n",
      "acc =  tensor([0.4444, 0.4444, 0.4444, 0.4444, 0.4444, 0.4444, 0.4444, 0.4444, 0.4444,\n",
      "        0.4444, 0.4444, 0.4444, 0.4444, 0.4444, 0.4444])\n"
     ]
    },
    {
     "data": {
      "image/png": "[encoded data removed]",
      "text/plain": [
       "<Figure size 432x720 with 2 Axes>"
      ]
     },
     "metadata": {
      "needs_background": "light"
     },
     "output_type": "display_data"
    }
   ],
   "source": [
    "a= torch.normal(5, 3, size=(5, 512))\n",
    "b = torch.normal(20, 3, size=(5, 512))\n",
    "c = torch.normal(100, 3, size=(5, 512))\n",
    "target = [1, 1, 1, 1, 1, 2, 2, 2, 2, 2, 3, 3, 3, 3, 3]\n",
    "ab = torch.cat((a, b, c), 0)\n",
    "acc = []\n",
    "accList = []\n",
    "accK = []\n",
    "for k in tqdm(range(1, 9 + 1)):\n",
    "    acc = calculateClusterACC_GPU_FIX(ab, target, k)\n",
    "    accList.append(acc)\n",
    "    accK.append(k) \n",
    "showVAL_FAR_ACC([], [], accList, accK)"
   ]
  },
  {
   "cell_type": "code",
   "execution_count": 47,
   "id": "buried-guinea",
   "metadata": {},
   "outputs": [
    {
     "data": {
      "text/plain": [
       "tensor([[ 3.6815,  9.9609],\n",
       "        [ 9.2554,  3.5687],\n",
       "        [ 4.0408,  8.3986],\n",
       "        [ 7.4135, 11.6167],\n",
       "        [ 8.1564,  4.6473]])"
      ]
     },
     "execution_count": 47,
     "metadata": {},
     "output_type": "execute_result"
    }
   ],
   "source": [
    "a"
   ]
  },
  {
   "cell_type": "code",
   "execution_count": 48,
   "id": "capable-examination",
   "metadata": {},
   "outputs": [
    {
     "data": {
      "text/plain": [
       "tensor([[15.6679, 18.7912],\n",
       "        [21.1439, 16.0063],\n",
       "        [18.2702, 23.9762],\n",
       "        [21.5455, 22.3243],\n",
       "        [23.4730, 17.4070]])"
      ]
     },
     "execution_count": 48,
     "metadata": {},
     "output_type": "execute_result"
    }
   ],
   "source": [
    "b"
   ]
  },
  {
   "cell_type": "code",
   "execution_count": 49,
   "id": "particular-porcelain",
   "metadata": {},
   "outputs": [
    {
     "data": {
      "text/plain": [
       "tensor([[ 3.6815,  9.9609],\n",
       "        [ 9.2554,  3.5687],\n",
       "        [ 4.0408,  8.3986],\n",
       "        [ 7.4135, 11.6167],\n",
       "        [ 8.1564,  4.6473],\n",
       "        [15.6679, 18.7912],\n",
       "        [21.1439, 16.0063],\n",
       "        [18.2702, 23.9762],\n",
       "        [21.5455, 22.3243],\n",
       "        [23.4730, 17.4070]])"
      ]
     },
     "execution_count": 49,
     "metadata": {},
     "output_type": "execute_result"
    }
   ],
   "source": [
    "ab"
   ]
  },
  {
   "cell_type": "code",
   "execution_count": null,
   "id": "robust-italian",
   "metadata": {},
   "outputs": [],
   "source": []
  }
 ],
 "metadata": {
  "kernelspec": {
   "display_name": "Python 3",
   "language": "python",
   "name": "python3"
  },
  "language_info": {
   "codemirror_mode": {
    "name": "ipython",
    "version": 3
   },
   "file_extension": ".py",
   "mimetype": "text/x-python",
   "name": "python",
   "nbconvert_exporter": "python",
   "pygments_lexer": "ipython3",
   "version": "3.7.10"
  }
 },
 "nbformat": 4,
 "nbformat_minor": 5
}
